{
 "cells": [
  {
   "cell_type": "markdown",
   "id": "a2917bf8-8ffd-4a4e-b00d-ab0d6ae29fb9",
   "metadata": {},
   "source": [
    "# 1st Program = Hello World !"
   ]
  },
  {
   "cell_type": "code",
   "execution_count": 1,
   "id": "7010f123-233a-4ab2-b5ba-45229a6c0123",
   "metadata": {},
   "outputs": [
    {
     "name": "stdout",
     "output_type": "stream",
     "text": [
      "Hello World\n"
     ]
    }
   ],
   "source": [
    "print(\"Hello World\")"
   ]
  },
  {
   "cell_type": "markdown",
   "id": "a2c395c5-0f86-4519-9558-fb379846a99d",
   "metadata": {},
   "source": [
    "# Variable"
   ]
  },
  {
   "cell_type": "code",
   "execution_count": 2,
   "id": "d4794d57-95b5-44f6-9718-140d06d08fd2",
   "metadata": {},
   "outputs": [
    {
     "name": "stdout",
     "output_type": "stream",
     "text": [
      "Neha\n",
      "20\n"
     ]
    }
   ],
   "source": [
    "name = \"Neha\"\n",
    "age = \"20\"\n",
    "print(name)\n",
    "print(age)"
   ]
  },
  {
   "cell_type": "markdown",
   "id": "be724cdb-22b4-4fca-b3d5-daeda9de3c9d",
   "metadata": {},
   "source": [
    "###1.String"
   ]
  },
  {
   "cell_type": "code",
   "execution_count": 3,
   "id": "d08a5b04-d1e1-4ecf-873e-6e099c775f45",
   "metadata": {},
   "outputs": [
    {
     "name": "stdout",
     "output_type": "stream",
     "text": [
      "Thakur\n"
     ]
    }
   ],
   "source": [
    "Surname = \"Thakur\"\n",
    "print(Surname)"
   ]
  },
  {
   "cell_type": "markdown",
   "id": "34775723-8247-4a72-b829-0a7a268215af",
   "metadata": {},
   "source": [
    "###2.Integer"
   ]
  },
  {
   "cell_type": "code",
   "execution_count": 4,
   "id": "e0e855d3-5f0b-472b-9174-fd226ce3da7f",
   "metadata": {},
   "outputs": [
    {
     "name": "stdout",
     "output_type": "stream",
     "text": [
      "20\n"
     ]
    }
   ],
   "source": [
    "age = \"20\"\n",
    "print(age)"
   ]
  },
  {
   "cell_type": "markdown",
   "id": "c6fee9e6-0e49-420b-8a02-40372304f5fd",
   "metadata": {},
   "source": [
    "###3.Floating"
   ]
  },
  {
   "cell_type": "code",
   "execution_count": 5,
   "id": "81d85ee2-8dfb-4775-a469-bd8e5e587fac",
   "metadata": {},
   "outputs": [
    {
     "name": "stdout",
     "output_type": "stream",
     "text": [
      "24.0\n"
     ]
    }
   ],
   "source": [
    "age = 24.0\n",
    "print(age)"
   ]
  },
  {
   "cell_type": "markdown",
   "id": "4df088b4-5241-4afc-b98d-dfc1e5e885bf",
   "metadata": {},
   "source": [
    "###4.Boolean"
   ]
  },
  {
   "cell_type": "code",
   "execution_count": 6,
   "id": "945acf84-aa3f-4620-9559-a2cc1a03f24c",
   "metadata": {},
   "outputs": [
    {
     "name": "stdout",
     "output_type": "stream",
     "text": [
      "20\n",
      "True\n"
     ]
    }
   ],
   "source": [
    "age = 20\n",
    "is_adult = True\n",
    "print(age)\n",
    "print(is_adult)"
   ]
  },
  {
   "cell_type": "markdown",
   "id": "695d3866-aec6-40ce-9bf3-2285893d0f01",
   "metadata": {},
   "source": [
    "# Input"
   ]
  },
  {
   "cell_type": "code",
   "execution_count": 8,
   "id": "26a0367a-3987-4f8e-aff5-9c9c67dd396c",
   "metadata": {},
   "outputs": [
    {
     "name": "stdin",
     "output_type": "stream",
     "text": [
      "What is your name? Neha\n"
     ]
    },
    {
     "name": "stdout",
     "output_type": "stream",
     "text": [
      "Neha\n"
     ]
    }
   ],
   "source": [
    "name = input(\"What is your name?\")\n",
    "print(name)"
   ]
  },
  {
   "cell_type": "markdown",
   "id": "78d085ef-71b8-46f8-a824-339ef1cbf951",
   "metadata": {},
   "source": [
    "# Concatenation"
   ]
  },
  {
   "cell_type": "code",
   "execution_count": 9,
   "id": "0d050452-aac3-4dfd-9d70-86ef36853d11",
   "metadata": {},
   "outputs": [
    {
     "name": "stdin",
     "output_type": "stream",
     "text": [
      "What is your name? neha\n"
     ]
    },
    {
     "name": "stdout",
     "output_type": "stream",
     "text": [
      " Helloneha\n"
     ]
    }
   ],
   "source": [
    "name = input(\"What is your name?\")\n",
    "print( \" Hello\" + name)"
   ]
  },
  {
   "cell_type": "markdown",
   "id": "13ee1c20-ab08-4b8d-a6b7-1ee4b2ff6a2a",
   "metadata": {},
   "source": [
    "# Type Conversion"
   ]
  },
  {
   "cell_type": "code",
   "execution_count": 10,
   "id": "c6019d69-0ff2-40bb-a28f-447fd80755fb",
   "metadata": {},
   "outputs": [
    {
     "name": "stdin",
     "output_type": "stream",
     "text": [
      "enter your old age :  20\n"
     ]
    },
    {
     "name": "stdout",
     "output_type": "stream",
     "text": [
      "22\n"
     ]
    }
   ],
   "source": [
    "old_age = input(\"enter your old age : \")\n",
    "new_age = int(old_age) + 2\n",
    "print(new_age)"
   ]
  },
  {
   "cell_type": "code",
   "execution_count": 11,
   "id": "b3b4a4df-7143-4d6c-8554-609b245a1ca3",
   "metadata": {},
   "outputs": [
    {
     "name": "stdin",
     "output_type": "stream",
     "text": [
      "enter first number :  12\n",
      "enter second number :  3\n"
     ]
    },
    {
     "name": "stdout",
     "output_type": "stream",
     "text": [
      "15\n"
     ]
    }
   ],
   "source": [
    "first = input(\"enter first number : \")\n",
    "second = input(\"enter second number : \")\n",
    "sum = int(first) + int(second)\n",
    "print(sum)\n"
   ]
  },
  {
   "cell_type": "markdown",
   "id": "1881c55f-4a6e-403b-a904-8fe5c0099399",
   "metadata": {},
   "source": [
    "# String"
   ]
  },
  {
   "cell_type": "code",
   "execution_count": 12,
   "id": "455f1d21-0970-4904-9e9e-c1eabae7710d",
   "metadata": {},
   "outputs": [
    {
     "name": "stdout",
     "output_type": "stream",
     "text": [
      "NEHA THAKUR\n"
     ]
    }
   ],
   "source": [
    "name = \"Neha Thakur\"\n",
    "print(name.upper())"
   ]
  },
  {
   "cell_type": "code",
   "execution_count": 13,
   "id": "bb358f56-5066-4827-af1a-dd5552e206b0",
   "metadata": {},
   "outputs": [
    {
     "name": "stdout",
     "output_type": "stream",
     "text": [
      "neha thakur\n"
     ]
    }
   ],
   "source": [
    "name = \"Neha Thakur\"\n",
    "print(name.lower())"
   ]
  },
  {
   "cell_type": "code",
   "execution_count": 18,
   "id": "663d5729-a97d-4d58-8177-eaa1e1c5c717",
   "metadata": {},
   "outputs": [
    {
     "name": "stdout",
     "output_type": "stream",
     "text": [
      "Tanushri\n"
     ]
    }
   ],
   "source": [
    "name = \"Neha\"\n",
    "print(name.replace(\"Neha\", \"Tanushri\"))"
   ]
  },
  {
   "cell_type": "code",
   "execution_count": 19,
   "id": "88286002-8f26-4c54-b301-b8170e76ea1e",
   "metadata": {},
   "outputs": [
    {
     "name": "stdout",
     "output_type": "stream",
     "text": [
      "5\n"
     ]
    }
   ],
   "source": [
    "name = \"Neha Thakur\"\n",
    "print(name.find('T'))"
   ]
  },
  {
   "cell_type": "markdown",
   "id": "ad20ded5-0f8f-47e1-a3e1-3c5b7b67edd7",
   "metadata": {},
   "source": [
    "# Keywords"
   ]
  },
  {
   "cell_type": "code",
   "execution_count": 20,
   "id": "2c60321e-072b-4990-bcce-3b55b07bce32",
   "metadata": {},
   "outputs": [
    {
     "name": "stdout",
     "output_type": "stream",
     "text": [
      "True\n"
     ]
    }
   ],
   "source": [
    "name = \"Neha\"\n",
    "print('N' in name)"
   ]
  },
  {
   "cell_type": "markdown",
   "id": "5bf2cc20-7127-4906-8cd6-824f032512a6",
   "metadata": {},
   "source": [
    "# Arithmetic Operators"
   ]
  },
  {
   "cell_type": "code",
   "execution_count": 21,
   "id": "ed9643b7-1fec-4c7a-9d5d-6a0974c9bee5",
   "metadata": {},
   "outputs": [
    {
     "name": "stdout",
     "output_type": "stream",
     "text": [
      "6\n"
     ]
    }
   ],
   "source": [
    "print(5+1)"
   ]
  },
  {
   "cell_type": "code",
   "execution_count": 22,
   "id": "a463ef9f-f0a8-49f6-ae7e-8455e2050e71",
   "metadata": {},
   "outputs": [
    {
     "name": "stdout",
     "output_type": "stream",
     "text": [
      "4\n"
     ]
    }
   ],
   "source": [
    "print(5-1)"
   ]
  },
  {
   "cell_type": "code",
   "execution_count": 23,
   "id": "51415202-182f-4eb9-b666-b8d44971fdc9",
   "metadata": {},
   "outputs": [
    {
     "name": "stdout",
     "output_type": "stream",
     "text": [
      "10\n"
     ]
    }
   ],
   "source": [
    "print(5*2)"
   ]
  },
  {
   "cell_type": "code",
   "execution_count": 24,
   "id": "b9c3a1a9-5d18-4ff3-aad3-db0ce2dbcd0e",
   "metadata": {},
   "outputs": [
    {
     "name": "stdout",
     "output_type": "stream",
     "text": [
      "5.0\n"
     ]
    }
   ],
   "source": [
    "print(10/2)"
   ]
  },
  {
   "cell_type": "code",
   "execution_count": 25,
   "id": "2ac1c63e-81b8-41de-88ad-741507d22219",
   "metadata": {},
   "outputs": [
    {
     "name": "stdout",
     "output_type": "stream",
     "text": [
      "5\n"
     ]
    }
   ],
   "source": [
    "print(10//2)"
   ]
  },
  {
   "cell_type": "code",
   "execution_count": 26,
   "id": "9e659536-be49-48c7-aac0-114afe7b9741",
   "metadata": {},
   "outputs": [
    {
     "name": "stdout",
     "output_type": "stream",
     "text": [
      "1\n"
     ]
    }
   ],
   "source": [
    "print(5 % 2)"
   ]
  },
  {
   "cell_type": "code",
   "execution_count": 27,
   "id": "983f0b73-a8c0-4fa1-92ce-d798ec61d4c8",
   "metadata": {},
   "outputs": [
    {
     "name": "stdout",
     "output_type": "stream",
     "text": [
      "25\n"
     ]
    }
   ],
   "source": [
    "print(5 ** 2)"
   ]
  },
  {
   "cell_type": "markdown",
   "id": "0ca34c2f-9673-405b-9bab-29d59a1abd6d",
   "metadata": {},
   "source": [
    "# Shortcuts"
   ]
  },
  {
   "cell_type": "code",
   "execution_count": 29,
   "id": "9bd5512a-6a94-4c01-bbc1-509f3049d88a",
   "metadata": {},
   "outputs": [],
   "source": [
    "i = 5\n",
    "i += 2\n",
    "i -= 2\n",
    "i *= 2"
   ]
  },
  {
   "cell_type": "markdown",
   "id": "e8b28273-1ddf-4c7e-941b-c7f920513d18",
   "metadata": {},
   "source": [
    "# Operator Precedence"
   ]
  },
  {
   "cell_type": "code",
   "execution_count": 30,
   "id": "439c57ec-721c-436e-86de-b83e830f6c6f",
   "metadata": {},
   "outputs": [
    {
     "name": "stdout",
     "output_type": "stream",
     "text": [
      "17\n"
     ]
    }
   ],
   "source": [
    "result = 2 + 3 * 5\n",
    "print(result)"
   ]
  },
  {
   "cell_type": "markdown",
   "id": "cfe18397-8bac-444b-9c74-b2b36557705e",
   "metadata": {},
   "source": [
    "# Comparison Operator"
   ]
  },
  {
   "cell_type": "code",
   "execution_count": 31,
   "id": "1ff315f0-ebf2-42e1-919c-fedd5ad7b8d3",
   "metadata": {},
   "outputs": [
    {
     "name": "stdout",
     "output_type": "stream",
     "text": [
      "True\n"
     ]
    }
   ],
   "source": [
    "print(3>2)"
   ]
  },
  {
   "cell_type": "code",
   "execution_count": 32,
   "id": "eb66f917-3771-49c7-900d-3dc11a7b59f7",
   "metadata": {},
   "outputs": [
    {
     "name": "stdout",
     "output_type": "stream",
     "text": [
      "False\n"
     ]
    }
   ],
   "source": [
    "print(3<2)"
   ]
  },
  {
   "cell_type": "code",
   "execution_count": 34,
   "id": "9da03e04-fb18-4df2-a3f9-d4888dd92594",
   "metadata": {},
   "outputs": [
    {
     "name": "stdout",
     "output_type": "stream",
     "text": [
      "True\n"
     ]
    }
   ],
   "source": [
    "print (3>=2)"
   ]
  },
  {
   "cell_type": "code",
   "execution_count": 35,
   "id": "3ae64a2a-8c28-4d2e-b8a0-81da59f21e1a",
   "metadata": {},
   "outputs": [
    {
     "name": "stdout",
     "output_type": "stream",
     "text": [
      "False\n"
     ]
    }
   ],
   "source": [
    "print(3 == 2)"
   ]
  },
  {
   "cell_type": "code",
   "execution_count": 36,
   "id": "fab90670-2662-43e5-9bd8-3cbd1263445a",
   "metadata": {},
   "outputs": [
    {
     "name": "stdout",
     "output_type": "stream",
     "text": [
      "True\n"
     ]
    }
   ],
   "source": [
    "print(3 != 2)"
   ]
  },
  {
   "cell_type": "markdown",
   "id": "24e29514-36b1-42f3-b17e-e83547275aef",
   "metadata": {},
   "source": [
    "# Logical Operator"
   ]
  },
  {
   "cell_type": "markdown",
   "id": "8a9e73d4-9ed9-4f79-8852-d8a84c76477c",
   "metadata": {},
   "source": [
    "### 1.OR operator"
   ]
  },
  {
   "cell_type": "code",
   "execution_count": 37,
   "id": "f8b300f7-d87c-4384-8a98-35aa94575aa1",
   "metadata": {},
   "outputs": [
    {
     "name": "stdout",
     "output_type": "stream",
     "text": [
      "True\n"
     ]
    }
   ],
   "source": [
    "print(2 > 3 or 2 > 1)"
   ]
  },
  {
   "cell_type": "markdown",
   "id": "c9923cef-b5ea-423d-b541-49cc88c41d6d",
   "metadata": {},
   "source": [
    "### 2. AND operator"
   ]
  },
  {
   "cell_type": "code",
   "execution_count": 39,
   "id": "5a4d5083-2b4f-4686-b236-4f857ab484e6",
   "metadata": {},
   "outputs": [
    {
     "name": "stdout",
     "output_type": "stream",
     "text": [
      "True\n"
     ]
    }
   ],
   "source": [
    "print(3>2 and 2>1)"
   ]
  },
  {
   "cell_type": "markdown",
   "id": "e21d78e5-7d14-422d-9c35-b6bb27c826b6",
   "metadata": {},
   "source": [
    "### 3. NOT operator"
   ]
  },
  {
   "cell_type": "code",
   "execution_count": 40,
   "id": "11b94bed-6130-4700-83af-a41bf7de1e59",
   "metadata": {},
   "outputs": [
    {
     "name": "stdout",
     "output_type": "stream",
     "text": [
      "True\n"
     ]
    }
   ],
   "source": [
    "print( not 2>3 )"
   ]
  },
  {
   "cell_type": "markdown",
   "id": "ca5d92fb-f922-4234-a3fe-05f7b2e97107",
   "metadata": {},
   "source": [
    "# If-else Statement"
   ]
  },
  {
   "cell_type": "code",
   "execution_count": 41,
   "id": "04a865a2-4e0f-47f9-a2b1-009e201bb756",
   "metadata": {},
   "outputs": [
    {
     "name": "stdout",
     "output_type": "stream",
     "text": [
      "You are an adult\n",
      "You can Vote\n",
      "thank you\n"
     ]
    }
   ],
   "source": [
    "age = 19\n",
    "\n",
    "if age >= 18:\n",
    "    print(\"You are an adult\")\n",
    "    print(\"You can Vote\")\n",
    "\n",
    "print(\"thank you\")"
   ]
  },
  {
   "cell_type": "code",
   "execution_count": 42,
   "id": "0fd4718d-6dc6-4a10-a5b3-4938e1d9a359",
   "metadata": {},
   "outputs": [
    {
     "name": "stdout",
     "output_type": "stream",
     "text": [
      "You are in school\n",
      "thank you\n"
     ]
    }
   ],
   "source": [
    "age = 16\n",
    "\n",
    "if age >= 18:\n",
    "    print(\"You are an adult\")\n",
    "    print(\"You can Vote\")\n",
    "elif age < 18 and age > 3:\n",
    "    print(\"You are in school\")\n",
    "else:\n",
    "    print(\"You are a child\")\n",
    "print(\"thank you\")"
   ]
  },
  {
   "cell_type": "markdown",
   "id": "218c1784-3670-43d0-9095-3da74e8e50e6",
   "metadata": {},
   "source": [
    "# Mini Project"
   ]
  },
  {
   "cell_type": "code",
   "execution_count": 44,
   "id": "e5ed9fc7-072a-4854-a4fd-41af3df2d910",
   "metadata": {},
   "outputs": [
    {
     "name": "stdin",
     "output_type": "stream",
     "text": [
      "enter first number : 2\n",
      "enter operator (+,-,*,%) :  *\n",
      "enter second number :  2\n"
     ]
    },
    {
     "name": "stdout",
     "output_type": "stream",
     "text": [
      "4\n"
     ]
    }
   ],
   "source": [
    "first = input(\"enter first number :\")\n",
    "operator = input(\"enter operator (+,-,*,%) : \")\n",
    "second = input(\"enter second number : \")\n",
    "\n",
    "first = int(first)\n",
    "second = int(second)\n",
    "\n",
    "if operator == \"+\":\n",
    "    print(first + second)\n",
    "elif operator == \"-\" :\n",
    "    print(first - second)\n",
    "elif operator == \"*\" :\n",
    "    print(first * second)\n",
    "elif operator == \"%\" :\n",
    "    print(first % second)  \n",
    "else:\n",
    "    print(\"Innvalid Operation\")"
   ]
  },
  {
   "cell_type": "markdown",
   "id": "0ba03552-4a7f-4c4e-bb27-358cce74427f",
   "metadata": {},
   "source": [
    "# Range"
   ]
  },
  {
   "cell_type": "code",
   "execution_count": 45,
   "id": "e132fc72-4e7d-405d-936f-f0ac9b3de581",
   "metadata": {},
   "outputs": [
    {
     "name": "stdout",
     "output_type": "stream",
     "text": [
      "range(0, 5)\n"
     ]
    }
   ],
   "source": [
    "numbers = range(5)\n",
    "print(numbers)"
   ]
  },
  {
   "cell_type": "markdown",
   "id": "ca4e0498-3370-40da-ab17-0b940ed9afef",
   "metadata": {},
   "source": [
    "# Loops"
   ]
  },
  {
   "cell_type": "code",
   "execution_count": 49,
   "id": "04e710ab-7445-432e-a881-f197454fcffc",
   "metadata": {},
   "outputs": [
    {
     "name": "stdout",
     "output_type": "stream",
     "text": [
      "1\n",
      "2\n",
      "3\n",
      "4\n",
      "5\n"
     ]
    }
   ],
   "source": [
    "\n",
    "i = 1\n",
    "while i <= 5:\n",
    "    print(i)\n",
    "    i = i + 1"
   ]
  },
  {
   "cell_type": "code",
   "execution_count": 50,
   "id": "276a6d4e-40bb-4d68-a6c1-02af69fc8a80",
   "metadata": {},
   "outputs": [
    {
     "name": "stdout",
     "output_type": "stream",
     "text": [
      "*\n",
      "**\n",
      "***\n",
      "****\n",
      "*****\n"
     ]
    }
   ],
   "source": [
    "i = 1\n",
    "while i <= 5:\n",
    "    print(i * \"*\")\n",
    "    i = i + 1"
   ]
  },
  {
   "cell_type": "code",
   "execution_count": 51,
   "id": "ccc62097-98da-4f2d-ab60-543fe2082108",
   "metadata": {},
   "outputs": [
    {
     "name": "stdout",
     "output_type": "stream",
     "text": [
      "1\n",
      "2\n",
      "3\n",
      "4\n",
      "5\n"
     ]
    }
   ],
   "source": [
    "for item in range(5):\n",
    "    print(item + 1)"
   ]
  },
  {
   "cell_type": "markdown",
   "id": "3296afb0-a602-49ff-b0cf-b226112a2f8f",
   "metadata": {},
   "source": [
    "# List"
   ]
  },
  {
   "cell_type": "code",
   "execution_count": 52,
   "id": "cee9a393-5f57-49fe-98c3-ae273f6f3ae1",
   "metadata": {},
   "outputs": [
    {
     "name": "stdout",
     "output_type": "stream",
     "text": [
      "[92, 95, 99]\n"
     ]
    }
   ],
   "source": [
    "marks = [92, 95, 99]\n",
    "print(marks)"
   ]
  },
  {
   "cell_type": "code",
   "execution_count": 53,
   "id": "c6ce6529-d7ec-4e9d-8fba-bcda539849d2",
   "metadata": {},
   "outputs": [
    {
     "name": "stdout",
     "output_type": "stream",
     "text": [
      "99\n"
     ]
    }
   ],
   "source": [
    "marks = [92, 95, 99]\n",
    "print(marks[-1])"
   ]
  },
  {
   "cell_type": "code",
   "execution_count": 54,
   "id": "ea66ed2b-2802-45cb-a625-07394e7d9071",
   "metadata": {},
   "outputs": [
    {
     "name": "stdout",
     "output_type": "stream",
     "text": [
      "[95, 99]\n"
     ]
    }
   ],
   "source": [
    "marks = [92, 95, 99]\n",
    "print(marks[1:3])"
   ]
  },
  {
   "cell_type": "code",
   "execution_count": 55,
   "id": "a909d3ff-4e46-4da1-ae2e-c138e77b3aa6",
   "metadata": {},
   "outputs": [
    {
     "name": "stdout",
     "output_type": "stream",
     "text": [
      "95\n",
      "98\n",
      "97\n"
     ]
    }
   ],
   "source": [
    "marks = [95, 98, 97]\n",
    "\n",
    "for score in marks:\n",
    "    print(score)"
   ]
  },
  {
   "cell_type": "code",
   "execution_count": 56,
   "id": "e1ff834d-fd77-480b-9f5b-42e057466fd9",
   "metadata": {},
   "outputs": [
    {
     "name": "stdout",
     "output_type": "stream",
     "text": [
      "[95, 98, 97, 99]\n"
     ]
    }
   ],
   "source": [
    "marks = [95, 98, 97]\n",
    "\n",
    "marks.append(99)\n",
    "\n",
    "print(marks)"
   ]
  },
  {
   "cell_type": "code",
   "execution_count": 57,
   "id": "ca82118a-2b08-443a-a304-c55a872dc8b8",
   "metadata": {},
   "outputs": [
    {
     "name": "stdout",
     "output_type": "stream",
     "text": [
      "[99, 95, 98, 97]\n"
     ]
    }
   ],
   "source": [
    "marks = [95, 98, 97]\n",
    "marks.insert(0, 99)\n",
    "print(marks)\n"
   ]
  },
  {
   "cell_type": "code",
   "execution_count": 58,
   "id": "91475b8b-51ee-4c27-a4ed-c7c15e7a73f4",
   "metadata": {},
   "outputs": [
    {
     "name": "stdout",
     "output_type": "stream",
     "text": [
      "True\n"
     ]
    }
   ],
   "source": [
    "marks = [95, 98, 97]\n",
    "marks.insert(0, 99)\n",
    "print(99 in marks)"
   ]
  },
  {
   "cell_type": "code",
   "execution_count": 59,
   "id": "14b06504-774b-4260-8945-979818a9cb2a",
   "metadata": {},
   "outputs": [
    {
     "name": "stdout",
     "output_type": "stream",
     "text": [
      "4\n"
     ]
    }
   ],
   "source": [
    "marks = [95, 98, 97]\n",
    "marks.insert(0, 99)\n",
    "print(len(marks))"
   ]
  },
  {
   "cell_type": "markdown",
   "id": "459ad59e-d856-4aa5-999d-7ca11daef98c",
   "metadata": {},
   "source": [
    "# Break & Continue"
   ]
  },
  {
   "cell_type": "code",
   "execution_count": 61,
   "id": "4ca45097-38a5-4a7d-b360-4ecf17c0923f",
   "metadata": {},
   "outputs": [],
   "source": [
    "students = [\"radha\", \"ram\", \"krishna\", \"radhika\", \"shyam\"]\n",
    "for student in students:\n",
    "    if student == \"radhika\":\n",
    "        break;\n",
    "        print(student)"
   ]
  },
  {
   "cell_type": "markdown",
   "id": "86654bff-f910-4b7c-8672-cc26b9095c29",
   "metadata": {},
   "source": [
    "# Tuple"
   ]
  },
  {
   "cell_type": "code",
   "execution_count": 62,
   "id": "9fa07d99-d698-4872-ad63-8f09f257544c",
   "metadata": {},
   "outputs": [
    {
     "name": "stdout",
     "output_type": "stream",
     "text": [
      "2\n"
     ]
    }
   ],
   "source": [
    "marks = (95, 98, 97)\n",
    "print(marks.index(97))"
   ]
  },
  {
   "cell_type": "markdown",
   "id": "8d73444a-a624-44a5-a246-e2a49841937f",
   "metadata": {},
   "source": [
    "# Set"
   ]
  },
  {
   "cell_type": "code",
   "execution_count": 63,
   "id": "6ad057b5-719e-4fc9-8666-011998c5a431",
   "metadata": {},
   "outputs": [
    {
     "name": "stdout",
     "output_type": "stream",
     "text": [
      "97\n",
      "98\n",
      "95\n"
     ]
    }
   ],
   "source": [
    "marks = {95, 98, 97, 97, 97}\n",
    "for score in marks:\n",
    "    print(score)"
   ]
  },
  {
   "cell_type": "markdown",
   "id": "c25c1f8b-f599-440c-b840-a390997b7b7b",
   "metadata": {},
   "source": [
    "# Dictionary"
   ]
  },
  {
   "cell_type": "code",
   "execution_count": 64,
   "id": "e1dedca8-e791-49da-949d-af7b55fa36ea",
   "metadata": {},
   "outputs": [
    {
     "name": "stdout",
     "output_type": "stream",
     "text": [
      "98\n"
     ]
    }
   ],
   "source": [
    "marks = {\"english\" : 95, \"chemistry\" : 98}\n",
    "print(marks[\"chemistry\"])"
   ]
  },
  {
   "cell_type": "markdown",
   "id": "0d72dd42-0c25-41f4-8feb-5f74c30c1f88",
   "metadata": {},
   "source": [
    "# Functions\n",
    "#### 1. In-Built Function\n",
    "#### 2. Module Function\n",
    "#### 3. User-Defined Function"
   ]
  },
  {
   "cell_type": "code",
   "execution_count": 69,
   "id": "247bb22e-d65a-47da-853a-1721b0446ec3",
   "metadata": {},
   "outputs": [
    {
     "name": "stdout",
     "output_type": "stream",
     "text": [
      "3\n"
     ]
    }
   ],
   "source": [
    "def print_sum(first , second):\n",
    "    print(first + second)\n",
    "\n",
    "print_sum(1, 2)"
   ]
  },
  {
   "cell_type": "code",
   "execution_count": 70,
   "id": "fc26d490-ae7a-4982-ac04-d6d821c07165",
   "metadata": {},
   "outputs": [
    {
     "name": "stdout",
     "output_type": "stream",
     "text": [
      "6\n"
     ]
    }
   ],
   "source": [
    "def print_sum(first , second):\n",
    "    print(first * second)\n",
    "\n",
    "print_sum(3, 2)"
   ]
  },
  {
   "cell_type": "code",
   "execution_count": 73,
   "id": "b7317f1b-ee79-45b9-961b-9f586086dfe6",
   "metadata": {},
   "outputs": [
    {
     "name": "stdout",
     "output_type": "stream",
     "text": [
      "3\n"
     ]
    }
   ],
   "source": [
    "fruits = [\"apple\", \"banana\", \"cherry\"]\n",
    "print(len(fruits))  "
   ]
  },
  {
   "cell_type": "code",
   "execution_count": null,
   "id": "45c58a10-71e3-42fe-a128-24b32fa697b9",
   "metadata": {},
   "outputs": [],
   "source": []
  }
 ],
 "metadata": {
  "kernelspec": {
   "display_name": "Python 3 (ipykernel)",
   "language": "python",
   "name": "python3"
  },
  "language_info": {
   "codemirror_mode": {
    "name": "ipython",
    "version": 3
   },
   "file_extension": ".py",
   "mimetype": "text/x-python",
   "name": "python",
   "nbconvert_exporter": "python",
   "pygments_lexer": "ipython3",
   "version": "3.13.1"
  }
 },
 "nbformat": 4,
 "nbformat_minor": 5
}
